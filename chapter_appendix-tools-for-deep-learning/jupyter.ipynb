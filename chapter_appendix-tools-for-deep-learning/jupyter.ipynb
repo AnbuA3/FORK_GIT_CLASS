{
  "cells": [
    {
      "cell_type": "code",
      "source": [
        "import numpy as np\n",
        "\n",
        "# Sigmoid activation\n",
        "def sigmoid(x):\n",
        "    return 1 / (1 + np.exp(-x))\n",
        "\n",
        "# Perceptron function\n",
        "def perceptron(x1, x2, w1, w2, bias):\n",
        "    return 1 if sigmoid(w1*x1 + w2*x2 + bias) > 0.5 else 0\n",
        "\n",
        "# Test inputs\n",
        "inputs = [(0,0),(0,1),(1,0),(1,1)]\n",
        "\n",
        "print(\"=== AND Gate ===\")\n",
        "for x1, x2 in inputs:\n",
        "    print(f\"Inputs: ({x1}, {x2}) --> AND = [{perceptron(x1, x2, 10, 10, -15)}]\")\n",
        "\n",
        "print(\"\\n=== OR Gate ===\")\n",
        "for x1, x2 in inputs:\n",
        "    print(f\"Inputs: ({x1}, {x2}) -->  OR = [{perceptron(x1, x2, 10, 10, -5)}]\")\n"
      ],
      "metadata": {
        "id": "yTWX8II9KBei",
        "outputId": "a103648b-56e0-4ea9-c0f3-220069b43f7b",
        "colab": {
          "base_uri": "https://localhost:8080/"
        }
      },
      "id": "yTWX8II9KBei",
      "execution_count": 6,
      "outputs": [
        {
          "output_type": "stream",
          "name": "stdout",
          "text": [
            "=== AND Gate ===\n",
            "Inputs: (0, 0) --> AND = [0]\n",
            "Inputs: (0, 1) --> AND = [0]\n",
            "Inputs: (1, 0) --> AND = [0]\n",
            "Inputs: (1, 1) --> AND = [1]\n",
            "\n",
            "=== OR Gate ===\n",
            "Inputs: (0, 0) -->  OR = [0]\n",
            "Inputs: (0, 1) -->  OR = [1]\n",
            "Inputs: (1, 0) -->  OR = [1]\n",
            "Inputs: (1, 1) -->  OR = [1]\n"
          ]
        }
      ]
    },
    {
      "cell_type": "code",
      "source": [],
      "metadata": {
        "id": "nQckcBSKNe-6"
      },
      "id": "nQckcBSKNe-6",
      "execution_count": null,
      "outputs": []
    }
  ],
  "metadata": {
    "kernelspec": {
      "display_name": "Python 3",
      "name": "python3"
    },
    "language_info": {
      "name": "python"
    },
    "required_libs": [],
    "colab": {
      "provenance": []
    }
  },
  "nbformat": 4,
  "nbformat_minor": 5
}